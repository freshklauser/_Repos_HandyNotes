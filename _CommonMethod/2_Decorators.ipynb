{
 "cells": [
  {
   "cell_type": "markdown",
   "metadata": {},
   "source": [
    "## 装饰器"
   ]
  },
  {
   "cell_type": "raw",
   "metadata": {},
   "source": [
    "闭包：\n",
    "\t函数内的属性都是生命周期，都是在函数执行期间\n",
    "\t闭包本质上是内部函数对外部函数 作用域 里 变量 的引用\n",
    "\t闭包内的闭包函数私有化了变量，完成了对数据的封装，类似于面向对象\n",
    "\n",
    "闭包格式：\n",
    "\tdef func():\t\t\t\t# 外部函数\n",
    "\t\touter_var = <外部函数变量>\n",
    "\t\tdef inner():\t\t# 内部函数\n",
    "\t\t\tvar_inner = <outer_var> + behavior\n",
    "\t\t\t<return xxx>\n",
    "\t\t<内部函数私有化了变量并返回 return>\n",
    "\t\treturn inner\n",
    "\n",
    "闭包用处：\n",
    "\t装饰器（也叫 语法糖@）\n",
    "    \n",
    "装饰器：\n",
    "\t不影响原有函数的功能，还能添加新的功能\n",
    "    如:拿到了第三方api且不能修改，功能还很简陋，可以使用装饰器增加新的自定义功能\n",
    "    \n",
    "普通装饰器(不带参数)： decor(func)()\n",
    "装饰器函数带参数(高阶装饰器)： decor(arg='man')(func)()\n",
    "\t\t\t\t多一层包装来接收装饰器的参数\n",
    "被装饰的函数带参数：最内部函数传入参数即可"
   ]
  },
  {
   "cell_type": "markdown",
   "metadata": {},
   "source": [
    "## （函数）装饰器（语法糖@）\n",
    "- 函数装饰器指的是 装饰器 是一个函数"
   ]
  },
  {
   "cell_type": "markdown",
   "metadata": {},
   "source": [
    "### 1. 被修饰的函数不带参数的装饰器"
   ]
  },
  {
   "cell_type": "code",
   "execution_count": 1,
   "metadata": {},
   "outputs": [
    {
     "name": "stdout",
     "output_type": "stream",
     "text": [
      "foo is running\n",
      "i am foo\n"
     ]
    }
   ],
   "source": [
    "# 1. 被修饰的函数不带参数的装饰器， 即 func()没有参数\n",
    "def use_logging(func):\n",
    "\n",
    "    def wrapper():\n",
    "        print(\"%s is running\" % func.__name__)\n",
    "        return func()   # 把 foo 当做参数传递进来时，执行func()就相当于执行foo()\n",
    "    return wrapper      \n",
    "\n",
    "@use_logging             # 等价于 foo = use_logging(foo)\n",
    "def foo():\n",
    "    print('i am foo')\n",
    "    \n",
    "foo()"
   ]
  },
  {
   "cell_type": "markdown",
   "metadata": {},
   "source": [
    "### 2. 被修饰的函数带参数的装饰器 func(*args, **kwargs)"
   ]
  },
  {
   "cell_type": "code",
   "execution_count": 2,
   "metadata": {},
   "outputs": [
    {
     "name": "stdout",
     "output_type": "stream",
     "text": [
      "foo is running\n",
      "I am tom, age 20, height None\n"
     ]
    }
   ],
   "source": [
    "# 2. 被修饰的函数带参数的装饰器 ---> 即 func(...)有参数， 可以用动态参数：*args、**kwargs\n",
    "def use_logging(func):\n",
    "\n",
    "    def wrapper(*args, **kwargs):\n",
    "        print(\"%s is running\" % func.__name__)\n",
    "        return func(*args, **kwargs)   # 把 foo 当做参数传递进来时，执行func()就相当于执行foo()\n",
    "    return wrapper      \n",
    "\n",
    "@use_logging             # 等价于 foo = use_logging(foo)\n",
    "def foo(name, age=None, height=None):\n",
    "    print(\"I am %s, age %s, height %s\" % (name, age, height))\n",
    "    \n",
    "foo('tom', 20)"
   ]
  },
  {
   "cell_type": "markdown",
   "metadata": {},
   "source": [
    "###  3. 包裹函数带参数的修饰器 deco(param)"
   ]
  },
  {
   "cell_type": "code",
   "execution_count": 3,
   "metadata": {},
   "outputs": [
    {
     "name": "stdout",
     "output_type": "stream",
     "text": [
      "INFO: foo is running\n",
      "i am foo\n"
     ]
    }
   ],
   "source": [
    "def use_logging(level):\n",
    "    def decorator(func):\n",
    "        def wrapper(*args, **kwargs):\n",
    "            if level == \"warn\":\n",
    "                print(\"WARN: %s is running\" % func.__name__)\n",
    "            elif level == \"info\":\n",
    "                print(\"INFO: %s is running\" % func.__name__)\n",
    "            return func(*args)\n",
    "        return wrapper\n",
    "\n",
    "    return decorator\n",
    "\n",
    "# @use_logging(level=\"warn\")      # 包裹函数带参数指定level等级\n",
    "@use_logging(level='info')\n",
    "def foo(name='foo'):\n",
    "    print(\"i am %s\" % name)\n",
    "    \n",
    "foo()"
   ]
  },
  {
   "cell_type": "markdown",
   "metadata": {},
   "source": [
    "## （类）装饰器\n",
    "- 类装饰器指的是 装饰器 是一个函数"
   ]
  },
  {
   "cell_type": "code",
   "execution_count": 4,
   "metadata": {},
   "outputs": [
    {
     "name": "stdout",
     "output_type": "stream",
     "text": [
      "Decorator 'tracer' was called.\n",
      "Function 'sum_ab' was called 1 times\n",
      "19\n"
     ]
    },
    {
     "data": {
      "text/plain": [
       "<function functools.wraps(wrapped, assigned=('__module__', '__name__', '__qualname__', '__doc__', '__annotations__'), updated=('__dict__',))>"
      ]
     },
     "execution_count": 4,
     "metadata": {},
     "output_type": "execute_result"
    }
   ],
   "source": [
    "import time\n",
    "from functools import wraps\n",
    "\n",
    "class tracer:\n",
    "    '''\n",
    "    class decorator\n",
    "    '''\n",
    "\n",
    "    def __init__(self, func):\n",
    "        self.call = 0\n",
    "        self.func = func\n",
    "        \n",
    "    def __call__(self, *args, **kwargs):\n",
    "        print(\"Decorator '{}' was called.\".format(self.__class__.__name__))\n",
    "        self.call += 1\n",
    "        print(\"Function '{}' was called {} times\".format(self.func.__name__, self.call))\n",
    "        # self.func(*args, **kwargs)\n",
    "        return self.func(*args, **kwargs)\n",
    "    \n",
    "@tracer\n",
    "def sum_ab(a, b):\n",
    "    time.sleep(0.2210)\n",
    "    return a ** 2 + a * b + b ** 2\n",
    "\n",
    "print(sum_ab(2,3))\n",
    "wraps"
   ]
  },
  {
   "cell_type": "markdown",
   "metadata": {},
   "source": [
    "### 装饰器修复技术 @wraps(func)\n",
    "- 将 被修饰的函数(wrapped) 的一些属性值赋值给 修饰器函数(wrapper) ，最终让属性的显示更符合我们的直觉\n",
    "- @wraps接受一个函数来进行装饰，并加入了复制函数名称、注释文档、参数列表等等的功能。这可以让我们在装饰器里面访问在装饰之前的函数的属性。\n",
    "- 不改变使用装饰器原有函数的结构(如__name__, __doc__), 不使用wraps可能出现的ERROR:   view_func...endpoint...map..."
   ]
  },
  {
   "cell_type": "code",
   "execution_count": 5,
   "metadata": {
    "scrolled": true
   },
   "outputs": [
    {
     "name": "stdout",
     "output_type": "stream",
     "text": [
      "res:  6\n",
      "f\n",
      "does some math\n"
     ]
    }
   ],
   "source": [
    "# 装饰器\n",
    "def logged(func):\n",
    "    @wraps(func)\n",
    "    def with_logging(*args, **kwargs):\n",
    "        '''logging docstrings'''\n",
    "        return func(*args, **kwargs)\n",
    "    return with_logging\n",
    "\n",
    "# 函数\n",
    "@logged\n",
    "def f(x):\n",
    "   \"\"\"does some math\"\"\"\n",
    "   return x + x * x\n",
    "\n",
    "res = f(2)\n",
    "print('res: ', res)\n",
    "print(f.__name__)     # 没有 @wraps, 输出 with_logging；      有, 输出 f\n",
    "print(f.__doc__)      # 没有 @wraps, 输出 logging docstrings；有, 输出does some math"
   ]
  },
  {
   "cell_type": "code",
   "execution_count": 6,
   "metadata": {},
   "outputs": [
    {
     "name": "stdout",
     "output_type": "stream",
     "text": [
      "这个是修饰函数\n",
      "wrapper_function\n"
     ]
    }
   ],
   "source": [
    "def wrapper(f):\n",
    "    def wrapper_function(*args, **kwargs):\n",
    "        \"\"\"这个是修饰函数\"\"\"\n",
    "        return f(*args, **kwargs)\n",
    "    return wrapper_function\n",
    "    \n",
    "@wrapper\n",
    "def wrapped():\n",
    "    \"\"\"这个是被修饰的函数\"\"\"\n",
    "    print('wrapped')\n",
    "    \n",
    "print(wrapped.__doc__)\n",
    "print(wrapped.__name__)"
   ]
  },
  {
   "cell_type": "markdown",
   "metadata": {},
   "source": [
    "- 如果`没使用@wraps`，当A调用了装饰器B的话，`A.__name__`返回的会是`装饰器B的函数名称`，而不是A的函数名称\n",
    "- 如果`使用了@wraps`，当A调用了装饰器B的话，`A.__name__`返回的会是`A函数的名称`，而不是饰器B的名称.\n",
    "这也即使常说的@wraps是装饰器的修复技术，实际就是修复还原了A的__name__变量，同理__doc__变量也是一样。"
   ]
  },
  {
   "cell_type": "markdown",
   "metadata": {},
   "source": [
    "#### 装饰器顺序\n",
    "一个函数还可以同时定义多个装饰器，比如："
   ]
  },
  {
   "cell_type": "raw",
   "metadata": {},
   "source": [
    "@a\n",
    "@b\n",
    "@c\n",
    "def f ():\n",
    "    pass"
   ]
  },
  {
   "cell_type": "markdown",
   "metadata": {},
   "source": [
    "它的执行顺序是从里到外，最先调用最里层的装饰器，最后调用最外层的装饰器，它等效于"
   ]
  },
  {
   "cell_type": "raw",
   "metadata": {},
   "source": [
    "f = a(b(c(f)))"
   ]
  },
  {
   "cell_type": "code",
   "execution_count": null,
   "metadata": {},
   "outputs": [],
   "source": []
  }
 ],
 "metadata": {
  "kernelspec": {
   "display_name": "Python 3",
   "language": "python",
   "name": "python3"
  },
  "language_info": {
   "codemirror_mode": {
    "name": "ipython",
    "version": 3
   },
   "file_extension": ".py",
   "mimetype": "text/x-python",
   "name": "python",
   "nbconvert_exporter": "python",
   "pygments_lexer": "ipython3",
   "version": "3.6.5"
  }
 },
 "nbformat": 4,
 "nbformat_minor": 2
}
