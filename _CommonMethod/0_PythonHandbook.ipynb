{
 "cells": [
  {
   "cell_type": "code",
   "execution_count": 1,
   "metadata": {},
   "outputs": [],
   "source": [
    "# 共享引用\n",
    "a = 3\n",
    "b = a"
   ]
  },
  {
   "cell_type": "code",
   "execution_count": 2,
   "metadata": {},
   "outputs": [
    {
     "name": "stdout",
     "output_type": "stream",
     "text": [
      "a=spam, b=3\n"
     ]
    }
   ],
   "source": [
    "a = 'spam'\n",
    "print('a=%s, b=%d' %(a, b))"
   ]
  },
  {
   "cell_type": "code",
   "execution_count": 3,
   "metadata": {},
   "outputs": [
    {
     "name": "stdout",
     "output_type": "stream",
     "text": [
      "[1, 2, 4] [1, 2, 4]\n",
      "[111, 2, 4] [111, 2, 4]\n"
     ]
    }
   ],
   "source": [
    "# 原处修改\n",
    "L1 = [1,2,4]\n",
    "L2 = L1\n",
    "print(L1, L2)\n",
    "L1[0] = 111\n",
    "print(L1, L2)"
   ]
  },
  {
   "cell_type": "code",
   "execution_count": 4,
   "metadata": {},
   "outputs": [
    {
     "name": "stdout",
     "output_type": "stream",
     "text": [
      "[1, 2, 4] [1, 2, 4]\n",
      "[1555, 2, 4] [1, 2, 4]\n"
     ]
    }
   ],
   "source": [
    "L1 = [1,2,4]\n",
    "L2 = L1[:]\n",
    "print(L1, L2)\n",
    "L1[0] = 1555\n",
    "print(L1, L2)"
   ]
  },
  {
   "cell_type": "code",
   "execution_count": 5,
   "metadata": {},
   "outputs": [
    {
     "name": "stdout",
     "output_type": "stream",
     "text": [
      "same value:  True ---------值的同一性\n",
      "same object:  True ---------对象的同一性 （更严格形式的相等测试）\n"
     ]
    }
   ],
   "source": [
    "s = [2,3,4]\n",
    "m = s\n",
    "print('same value: ', m == s, '---------值的同一性')\n",
    "print('same object: ', m is s, '---------对象的同一性 （更严格形式的相等测试）')"
   ]
  },
  {
   "cell_type": "code",
   "execution_count": 6,
   "metadata": {},
   "outputs": [
    {
     "name": "stdout",
     "output_type": "stream",
     "text": [
      "1\n",
      "2557\n"
     ]
    }
   ],
   "source": [
    "import sys\n",
    "# 查询一个对象被引用的次数\n",
    "print(sys.getrefcount([1,2,3]))\n",
    "print(sys.getrefcount(1))"
   ]
  },
  {
   "cell_type": "code",
   "execution_count": 8,
   "metadata": {},
   "outputs": [
    {
     "name": "stdout",
     "output_type": "stream",
     "text": [
      "Help on built-in function strip:\n",
      "\n",
      "strip(...) method of builtins.str instance\n",
      "    S.strip([chars]) -> str\n",
      "    \n",
      "    Return a copy of the string S with leading and trailing\n",
      "    whitespace removed.\n",
      "    If chars is given and not None, remove characters in chars instead.\n",
      "\n"
     ]
    }
   ],
   "source": [
    "help('s'.strip)"
   ]
  },
  {
   "cell_type": "code",
   "execution_count": 21,
   "metadata": {},
   "outputs": [
    {
     "name": "stdout",
     "output_type": "stream",
     "text": [
      "a\n",
      "b\tc's\n"
     ]
    },
    {
     "data": {
      "text/plain": [
       "\"a\\nb\\tc's\""
      ]
     },
     "execution_count": 21,
     "metadata": {},
     "output_type": "execute_result"
    }
   ],
   "source": [
    "print('a\\nb\\tc\\'s')    # print会将字符串反斜杠字符解释出来\n",
    "'a\\nb\\tc\\'s'           # 交互模式下不解释，直接以转义字符的形式回显"
   ]
  },
  {
   "cell_type": "code",
   "execution_count": null,
   "metadata": {},
   "outputs": [],
   "source": []
  }
 ],
 "metadata": {
  "kernelspec": {
   "display_name": "Python 3",
   "language": "python",
   "name": "python3"
  },
  "language_info": {
   "codemirror_mode": {
    "name": "ipython",
    "version": 3
   },
   "file_extension": ".py",
   "mimetype": "text/x-python",
   "name": "python",
   "nbconvert_exporter": "python",
   "pygments_lexer": "ipython3",
   "version": "3.6.8"
  }
 },
 "nbformat": 4,
 "nbformat_minor": 2
}
